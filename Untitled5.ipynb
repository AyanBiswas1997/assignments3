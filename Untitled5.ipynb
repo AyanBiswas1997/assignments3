{
  "nbformat": 4,
  "nbformat_minor": 0,
  "metadata": {
    "colab": {
      "provenance": []
    },
    "kernelspec": {
      "name": "python3",
      "display_name": "Python 3"
    },
    "language_info": {
      "name": "python"
    }
  },
  "cells": [
    {
      "cell_type": "code",
      "execution_count": null,
      "metadata": {
        "id": "bOIMI2Q7MteE"
      },
      "outputs": [],
      "source": []
    },
    {
      "cell_type": "markdown",
      "source": [
        "assignment 3"
      ],
      "metadata": {
        "id": "p40ts_eeMuwr"
      }
    },
    {
      "cell_type": "code",
      "source": [],
      "metadata": {
        "id": "HgIohNvGMw92"
      },
      "execution_count": null,
      "outputs": []
    },
    {
      "cell_type": "markdown",
      "source": [
        "1.The use of functions makes a program more readable. It's frequently difficult to read a large program. Breaking the code down into smaller functions keeps the program structured, understandable, and reusable. The function can be reused countless times after it is defined"
      ],
      "metadata": {
        "id": "0Svt9O1WM3mv"
      }
    },
    {
      "cell_type": "markdown",
      "source": [
        "2.when its called"
      ],
      "metadata": {
        "id": "AB1vD_8kM68p"
      }
    },
    {
      "cell_type": "markdown",
      "source": [
        "3.To create a function, we must first declare it and give it a name, the same way we'd create any variable, and then we follow it by a function definition"
      ],
      "metadata": {
        "id": "P10kEIdANFxN"
      }
    },
    {
      "cell_type": "markdown",
      "source": [
        "4. a function is a block of code that performs a specific task, while a function call is an expression that invokes a function and executes the code in the function."
      ],
      "metadata": {
        "id": "OEp2TJpLNdx8"
      }
    },
    {
      "cell_type": "markdown",
      "source": [
        "5.There is one global scope in a Python program, and a local scope is created whenever a function is called.A local scope is a nested scope that is created whenever a function is called. It contains all the variables and functions that are defined inside of the function."
      ],
      "metadata": {
        "id": "svUZ3R_eNpi7"
      }
    },
    {
      "cell_type": "markdown",
      "source": [
        "6.When a function returns, local variables are destroyed. This is because local variables are only accessible within the scope of the function."
      ],
      "metadata": {
        "id": "Ag8Hwmk0NV3l"
      }
    },
    {
      "cell_type": "markdown",
      "source": [
        "7.A return value is the value that a function returns to the calling script or function when it completes its task.\n",
        "\n",
        "Yes, an expression can return a value. An expression is a statement that produces and returns a value"
      ],
      "metadata": {
        "id": "o_Qh7AVBOcRv"
      }
    },
    {
      "cell_type": "markdown",
      "source": [
        "8.Regardless of how long and complex your functions are, any function without an explicit return statement, or one with a return statement without a return value, will return None ."
      ],
      "metadata": {
        "id": "cDKVcmBOOw8O"
      }
    },
    {
      "cell_type": "markdown",
      "source": [
        "9.For example, if i have a global variable called x and i want to use it in a function called my_function()"
      ],
      "metadata": {
        "id": "GhZUQiqQO5mh"
      }
    },
    {
      "cell_type": "markdown",
      "source": [
        "10.In Python, the data type of None is NoneType. None is a null value, or no value at all. It is not the same as 0, False, or an empty string."
      ],
      "metadata": {
        "id": "vSFko8AiPMbw"
      }
    },
    {
      "cell_type": "markdown",
      "source": [
        "11.imports a module named areallyourpetsnamederic"
      ],
      "metadata": {
        "id": "PK4ydOLfPVJK"
      }
    },
    {
      "cell_type": "markdown",
      "source": [
        "14.The try block lets you test a block of code for errors. The except block lets you handle the error. The else block lets you execute code when there is no error. The finally block lets you execute code, regardless of the result of the try- and except blocks."
      ],
      "metadata": {
        "id": "OiJxB-CaPfma"
      }
    },
    {
      "cell_type": "markdown",
      "source": [
        "13.Each and every exception has to be handled by the programmer to avoid the program from crashing abruptly. This is done by writing additional code in a program to give proper messages or instructions to the user on encountering an exception. This process is known as exception handling."
      ],
      "metadata": {
        "id": "KHW8_BoqPpMg"
      }
    },
    {
      "cell_type": "markdown",
      "source": [],
      "metadata": {
        "id": "232eNn1oPvIU"
      }
    }
  ]
}